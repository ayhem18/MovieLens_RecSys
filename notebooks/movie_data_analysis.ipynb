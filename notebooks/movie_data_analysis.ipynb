{
 "cells": [
  {
   "cell_type": "markdown",
   "metadata": {},
   "source": [
    "# Data imports"
   ]
  },
  {
   "cell_type": "code",
   "execution_count": null,
   "metadata": {},
   "outputs": [],
   "source": [
    "import os\n",
    "from pathlib import Path\n",
    "\n",
    "DATA_FOLDER = os.path.join(Path(os.getcwd()).parent, 'data')\n",
    "print(DATA_FOLDER)\n",
    "\n",
    "import pandas as pd\n",
    "df = pd.read_csv(os.path.join(DATA_FOLDER, 'ml-100k', 'u1.base'), sep='\\t', header=None)"
   ]
  },
  {
   "cell_type": "markdown",
   "metadata": {},
   "source": [
    "# Data Analysis: Genre"
   ]
  },
  {
   "cell_type": "code",
   "execution_count": null,
   "metadata": {},
   "outputs": [],
   "source": [
    "# this mapping can be found in the 'data' 'ml-100k', u.genre file.\n",
    "movie_genre_index_map = {\n",
    "0:\"unknown\",\n",
    "1:\"Action\",\n",
    "2:\"Adventure\",\n",
    "3:\"Animation\",\n",
    "4:\"Children's\",\n",
    "5:\"Comedy\",\n",
    "6:\"Crime\",\n",
    "7:\"Documentary\",\n",
    "8:\"Drama\",\n",
    "9:\"Fantasy\",\n",
    "10:\"Film-Noir\",\n",
    "11:\"Horror\",\n",
    "12: \"Musical\",\n",
    "13:\"Mystery\",\n",
    "14: \"Romance\",\n",
    "15: \"Sci-Fi\",\n",
    "16: \"Thriller\",\n",
    "17: \"War\",\n",
    "18: \"Western\"\n",
    "}"
   ]
  },
  {
   "cell_type": "code",
   "execution_count": null,
   "metadata": {},
   "outputs": [],
   "source": [
    "# let's understand the movie data better\n",
    "df_movie = pd.read_csv(os.path.join(DATA_FOLDER, 'ml-100k', 'u.item'), sep='|', encoding='latin', header=None)\n",
    "df_movie.drop(columns=[1, 3, 4], inplace=True)\n",
    "# add meaningful column names,\n",
    "index_column_mapper = {0: 'id', 2: 'date'}\n",
    "for k, v in movie_genre_index_map.items():\n",
    "    index_column_mapper[k + 5] = v \n",
    "# we can see that our data is now ready to be processed further\n",
    "df_movie.rename(columns=index_column_mapper, inplace=True)\n",
    "# now all the data fields are clear."
   ]
  },
  {
   "cell_type": "code",
   "execution_count": null,
   "metadata": {},
   "outputs": [],
   "source": []
  }
 ],
 "metadata": {
  "language_info": {
   "name": "python"
  }
 },
 "nbformat": 4,
 "nbformat_minor": 2
}
